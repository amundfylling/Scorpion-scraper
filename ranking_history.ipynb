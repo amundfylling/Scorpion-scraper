{
 "cells": [
  {
   "cell_type": "code",
   "execution_count": 6,
   "metadata": {},
   "outputs": [],
   "source": [
    "from concurrent.futures import ThreadPoolExecutor\n",
    "from functools import lru_cache\n",
    "import requests\n",
    "import pandas as pd\n",
    "from datetime import datetime\n",
    "import re\n",
    "from bs4 import BeautifulSoup\n",
    "from tqdm.auto import tqdm"
   ]
  },
  {
   "cell_type": "code",
   "execution_count": 12,
   "metadata": {},
   "outputs": [
    {
     "data": {
      "application/vnd.jupyter.widget-view+json": {
       "model_id": "ed1334a1beb444dc89c27d6877b0e7b1",
       "version_major": 2,
       "version_minor": 0
      },
      "text/plain": [
       "  0%|          | 0/169 [00:00<?, ?it/s]"
      ]
     },
     "metadata": {},
     "output_type": "display_data"
    },
    {
     "name": "stdout",
     "output_type": "stream",
     "text": [
      "No ranking table found for ID 288\n",
      "No ranking table found for ID 389\n"
     ]
    }
   ],
   "source": [
    "def fetch_ranking(ranking_id):\n",
    "    \"\"\"\n",
    "    Fetch ranking data for a specific ranking ID.\n",
    "\n",
    "    Args:\n",
    "        ranking_id (int): Ranking period ID.\n",
    "\n",
    "    Returns:\n",
    "        list: List of dictionaries with ranking data for the specified ID.\n",
    "    \"\"\"\n",
    "    rankings = []\n",
    "    try:\n",
    "        # Construct the URL for the given ranking ID\n",
    "        url = f\"https://stiga.trefik.cz/ithf/ranking/history.aspx?id={ranking_id}\"\n",
    "        response = requests.get(url)\n",
    "        response.raise_for_status()\n",
    "\n",
    "        # Parse the HTML content with BeautifulSoup\n",
    "        soup = BeautifulSoup(response.text, 'html.parser')\n",
    "\n",
    "        # Extract the ranking table\n",
    "        table = soup.find('table', {'border': '1'})\n",
    "        if not table:\n",
    "            print(f\"No ranking table found for ID {ranking_id}\")\n",
    "            return rankings\n",
    "\n",
    "        # Extract the date from the page header\n",
    "        date_header = soup.find('span', {'id': 'LabTitle'}).text\n",
    "        date_str = date_header.split('as on')[-1].strip()\n",
    "        ranking_date = datetime.strptime(date_str, \"%d.%m.%Y\")\n",
    "\n",
    "        # Extract rows from the table\n",
    "        rows = table.find_all('tr')[2:]  # Skip headers and spacer rows\n",
    "\n",
    "        for row in rows:\n",
    "            cols = row.find_all('td')\n",
    "            if len(cols) == 4:  # Ensure there are 4 columns (Rank, Player, Nation, Points)\n",
    "                rank = cols[0].get_text(strip=True)\n",
    "                player_name = cols[1].get_text(strip=True)\n",
    "                player_id = (\n",
    "                    cols[1].find('a')['href'].split('=')[-1]\n",
    "                    if cols[1].find('a') else None\n",
    "                )\n",
    "                nation = cols[2].img['alt'] if cols[2].find('img') else None\n",
    "                points = cols[3].get_text(strip=True).replace('&nbsp;', '').replace('\\u00a0', '').strip()\n",
    "\n",
    "                # Append data to the list\n",
    "                rankings.append({\n",
    "                    'Rank': int(rank.rstrip('.')),\n",
    "                    'PlayerName': player_name,\n",
    "                    'PlayerID': int(player_id) if player_id else None,\n",
    "                    'Nation': nation,\n",
    "                    'Points': int(points.replace(',', '')) if points.isdigit() else None,\n",
    "                    'Date': ranking_date\n",
    "                })\n",
    "    except Exception as e:\n",
    "        print(f\"Error fetching data for ID {ranking_id}: {e}\")\n",
    "    return rankings\n",
    "\n",
    "\n",
    "def extract_ranking_data_parallel(start_id=249, end_id=417, max_workers=10):\n",
    "    \"\"\"\n",
    "    Extract ranking data in parallel for a range of IDs.\n",
    "    \n",
    "    Args:\n",
    "        start_id (int): Starting ID for ranking periods (e.g., 249 for Jan 2010).\n",
    "        end_id (int): Ending ID for ranking periods.\n",
    "        max_workers (int): Number of threads for parallel processing.\n",
    "    \n",
    "    Returns:\n",
    "        pd.DataFrame: Combined ranking data for all periods.\n",
    "    \"\"\"\n",
    "    rankings = []\n",
    "\n",
    "    # Use ThreadPoolExecutor with a progress bar\n",
    "    with ThreadPoolExecutor(max_workers=max_workers) as executor:\n",
    "        # Create a list of ranking IDs\n",
    "        ranking_ids = list(range(start_id, end_id + 1))\n",
    "        \n",
    "        # Submit tasks to the executor and use tqdm for progress tracking\n",
    "        for result in tqdm(executor.map(fetch_ranking, ranking_ids), total=len(ranking_ids)):\n",
    "            rankings.extend(result)\n",
    "    \n",
    "    # Convert the collected data into a DataFrame\n",
    "    return pd.DataFrame(rankings)\n",
    "\n",
    "# Extract ranking data for all periods with a progress bar\n",
    "ranking_data = extract_ranking_data_parallel()"
   ]
  },
  {
   "cell_type": "code",
   "execution_count": 14,
   "metadata": {},
   "outputs": [],
   "source": [
    "ranking_data.to_parquet('ranking_history.parquet', engine='fastparquet', compression='zstd')"
   ]
  },
  {
   "cell_type": "code",
   "execution_count": null,
   "metadata": {},
   "outputs": [],
   "source": []
  }
 ],
 "metadata": {
  "kernelspec": {
   "display_name": "Python 3",
   "language": "python",
   "name": "python3"
  },
  "language_info": {
   "codemirror_mode": {
    "name": "ipython",
    "version": 3
   },
   "file_extension": ".py",
   "mimetype": "text/x-python",
   "name": "python",
   "nbconvert_exporter": "python",
   "pygments_lexer": "ipython3",
   "version": "3.10.9"
  }
 },
 "nbformat": 4,
 "nbformat_minor": 2
}
